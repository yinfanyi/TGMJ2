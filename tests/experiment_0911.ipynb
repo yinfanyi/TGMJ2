{
 "cells": [
  {
   "cell_type": "markdown",
   "metadata": {},
   "source": [
    "# MuJoCO多参数并行实验\n",
    "水平弹簧f1 100 刚度 771\\\n",
    "倾斜弹簧f2 290 刚度 2000\\\n",
    "连接球弹簧f3 计算 67000\\\n",
    "内部初始角速度 1000degree/s = 57.295779513 rad/s\\\n",
    "减速时扭矩 100Nm\n",
    "\n",
    "\n",
    "| 测试 | 参数 | 范围       | 组数 |\n",
    "|------|------|------------|------|\n",
    "| 1    | z    | [0, 165]   | 240  |\n",
    "| 2    | f1   | [20, 200]  | 240  |\n",
    "| 3    | f2   | [150, 400] | 240  |\n"
   ]
  },
  {
   "cell_type": "code",
   "execution_count": 2,
   "metadata": {},
   "outputs": [],
   "source": [
    "# 导入相关库\n",
    "import re\n",
    "import ast\n",
    "import os\n",
    "import sys\n",
    "from time import time, sleep\n",
    "import xml.etree.ElementTree as ET\n",
    "\n",
    "import pandas as pd\n",
    "import pickle\n",
    "import numpy as np\n",
    "import keyboard\n",
    "import matplotlib.pyplot as plt\n",
    "\n",
    "import mujoco.viewer as mj_viewer\n",
    "import mujoco as mj\n",
    "from dm_control import mujoco as dmmj\n",
    "from dm_control import mjcf\n",
    "\n",
    "current_dir = os.getcwd()\n",
    "src_dir = os.path.join(current_dir, '..', 'src')\n",
    "sys.path.append(src_dir)\n",
    "\n",
    "from xlsxConverter import XLSXConverter\n",
    "import tt12_with_middle as tt_csv\n",
    "\n",
    "import tt12_control_0911 as tt_ctrl\n",
    "\n",
    "def reload_module(module_name, alias=None):  \n",
    "    import importlib  \n",
    "    module = importlib.import_module(module_name)  \n",
    "    importlib.reload(module)  \n",
    "\n",
    "    globals()[alias] = module  # 将模块赋值给全局变量  \n",
    "    return module"
   ]
  },
  {
   "cell_type": "code",
   "execution_count": 3,
   "metadata": {},
   "outputs": [],
   "source": [
    "# 定义常量\n",
    "z_list = np.linspace(0, 165, 240)\n",
    "f1_list = np.linspace(20, 200, 240)\n",
    "f2_list = np.linspace(150, 400, 240)\n",
    "xlsx_path = '../data/xlsx/topology_TSR_flexible_strut_ball_foot_v1_R.xlsx'\n"
   ]
  },
  {
   "cell_type": "code",
   "execution_count": 4,
   "metadata": {},
   "outputs": [
    {
     "data": {
      "text/plain": [
       "(0.22029831387808038, 0.10248737341529165, 0.17205665109199625)"
      ]
     },
     "execution_count": 4,
     "metadata": {},
     "output_type": "execute_result"
    }
   ],
   "source": [
    "def cal_ori_length(z=165, f1=100, f2=290):\n",
    "    a=350/2\n",
    "    z=165\n",
    "    f3 = (f2/np.sqrt(2) - f1)*2*np.sqrt(a**2+z**2)/(a-z)\n",
    "    stiffness1 = 771  # N/m    \n",
    "    stiffness2 = 2000\n",
    "    stiffness3 = 67000\n",
    "\n",
    "    length1 = 0.35\n",
    "    length2 = 0.35/2*np.sqrt(2)\n",
    "    length3 = 0.35/2*np.sqrt(2)\n",
    "\n",
    "    dx1 = f1/stiffness1\n",
    "    dx2 = f2/stiffness2\n",
    "    dx3 = f3/stiffness3\n",
    "    ori_length1 = abs(dx1-length1)\n",
    "    ori_length2 = abs(dx2-length2)\n",
    "    ori_length3 = abs(dx3-length3)\n",
    "    return ori_length1, ori_length2, ori_length3\n",
    "\n",
    "def cal_experiment_param_4(z=165):\n",
    "    return (175+z)*2*0.001\n",
    "cal_ori_length()"
   ]
  },
  {
   "cell_type": "code",
   "execution_count": 10,
   "metadata": {},
   "outputs": [],
   "source": [
    "reload_module('tt12_control_0911', 'tt_ctrl')\n",
    "reload_module('tt12_with_middle', 'tt_csv')\n",
    "\n",
    "i=1\n",
    "z=165\n",
    "xlsx_path = '../data/xlsx/topology_TSR_flexible_strut_ball_foot_v1_R.xlsx'\n",
    "for i, z in enumerate(z_list):\n",
    "    csv_path = f'../data/csv/data_tt12bar_0911_{i}.csv'\n",
    "    export_xml_file_path = '../data/xml/'\n",
    "    export_xml_file_name = f\"TT12_0911_{i}.xml\"\n",
    "    xml_path = export_xml_file_path + export_xml_file_name\n",
    "    save_data_csv = f'../data/csv/0911/output_tt12bar_{i}.csv'\n",
    "\n",
    "    param_length_4 = (175+z)*2*0.001\n",
    "\n",
    "    tt12 = tt_csv.TT12WithMiddle(xlsx_path, param_length_4=param_length_4)\n",
    "    tt12.fill_all_data(ori_length_1=0.22, ori_length_2=0.10, ori_length_3=0.18)\n",
    "    tt12.export_to_csv(csv_path)\n",
    "    tt12_mjcf = tt_ctrl.TT12_MJCF()  \n",
    "    tt12_mjcf.time_step = 0.00001 \n",
    "    # tt12_mjcf.floor_friction = '0.1 0.005 0.0001'  \n",
    "    # tt12_mjcf.floor_solref = '-100000 -10'  \n",
    "    tt12_mjcf.generate_tt_model(csv_path, tt_model_name='tt_model_0', pos=(0, 0, 0))  \n",
    "    tt12_mjcf.export_to_xml_file(export_xml_file_path, export_xml_file_name)\n",
    "\n",
    "    tt12_control = tt_ctrl.TT12_Control(xml_path, keyframe_id=0)  \n",
    "    tt12_control.Hz = 200\n",
    "    tt12_control.is_control=True\n",
    "    tt12_control.simulate(is_render=False, stop_time=1)  \n",
    "    # tt12_control.recorded_data.plot_data(attr_name_list=['angvel_inside_ball', 'outside_z_pos', 'torque'])\n",
    "    tt12_control.recorded_data.save_data(save_data_csv)"
   ]
  },
  {
   "cell_type": "code",
   "execution_count": 5,
   "metadata": {},
   "outputs": [],
   "source": [
    "import multiprocessing  \n",
    "\n",
    "def process_z(z, index):  \n",
    "    xlsx_path = '../data/xlsx/topology_TSR_flexible_strut_ball_foot_v1_R.xlsx'\n",
    "    csv_path = f'../data/csv/data_tt12bar_0911_{index}.csv'  \n",
    "    export_xml_file_path = '../data/xml/'  \n",
    "    export_xml_file_name = f\"TT12_0911_{index}.xml\"  \n",
    "    xml_path = export_xml_file_path + export_xml_file_name  \n",
    "    save_data_csv = f'../data/csv/0911/output_tt12bar_{index}.csv'  \n",
    "\n",
    "    param_length_4 = (175 + z) * 2 * 0.001  \n",
    "\n",
    "    # 创建 TT12WithMiddle 实例并处理数据  \n",
    "    tt12 = tt_csv.TT12WithMiddle(xlsx_path, param_length_4=param_length_4)  \n",
    "    tt12.fill_all_data(ori_length_1=0.22, ori_length_2=0.10, ori_length_3=0.18)  \n",
    "    tt12.export_to_csv(csv_path)  \n",
    "\n",
    "    # 创建 TT12_MJCF 实例并生成模型  \n",
    "    tt12_mjcf = tt_ctrl.TT12_MJCF()  \n",
    "    tt12_mjcf.time_step = 0.00001  \n",
    "    tt12_mjcf.generate_tt_model(csv_path, tt_model_name='tt_model_0', pos=(0, 0, 0))  \n",
    "    tt12_mjcf.export_to_xml_file(export_xml_file_path, export_xml_file_name)  \n",
    "\n",
    "    # 创建 TT12_Control 实例并进行仿真  \n",
    "    tt12_control = tt_ctrl.TT12_Control(xml_path, keyframe_id=0)  \n",
    "    tt12_control.Hz = 200  \n",
    "    tt12_control.is_control = True  \n",
    "    tt12_control.simulate(is_render=False, stop_time=1)  \n",
    "    tt12_control.recorded_data.save_data(save_data_csv)"
   ]
  },
  {
   "cell_type": "code",
   "execution_count": 6,
   "metadata": {},
   "outputs": [],
   "source": [
    "z_list = [0, 165]\n",
    "with multiprocessing.Pool(processes=2) as pool:  \n",
    "    pool.starmap(process_z, [(z, i) for i, z in enumerate(z_list)])  "
   ]
  },
  {
   "cell_type": "code",
   "execution_count": 1,
   "metadata": {},
   "outputs": [
    {
     "data": {
      "text/plain": [
       "24.0"
      ]
     },
     "execution_count": 1,
     "metadata": {},
     "output_type": "execute_result"
    }
   ],
   "source": [
    "z_list = np.linspace(0, 165, 240)\n",
    "# 当i=x，求对应的z\n",
    "for i in range(240):\n",
    "    z = z_list[i]\n",
    "    print(f\"z={z:.2f}, x={x:.2f}\")"
   ]
  }
 ],
 "metadata": {
  "kernelspec": {
   "display_name": "physicalSimulation",
   "language": "python",
   "name": "python3"
  },
  "language_info": {
   "codemirror_mode": {
    "name": "ipython",
    "version": 3
   },
   "file_extension": ".py",
   "mimetype": "text/x-python",
   "name": "python",
   "nbconvert_exporter": "python",
   "pygments_lexer": "ipython3",
   "version": "3.8.13"
  }
 },
 "nbformat": 4,
 "nbformat_minor": 2
}
